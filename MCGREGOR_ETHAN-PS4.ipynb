{
 "cells": [
  {
   "cell_type": "markdown",
   "metadata": {},
   "source": [
    "# Problem Set 4, due May 16 at 11:59am, mid-day, noon.\n",
    "\n",
    "### Before You Start\n",
    "\n",
    "This is a fun but challenging problem set. It will test your python skills, as well as your understanding of the material in class and in the readings. Start early and debug often! Some notes:\n",
    "\n",
    "* Part 1 is meant to be easy, so get through it quickly.\n",
    "* Part 2 (especially 2.1) will be difficult, but it is the lynchpin of this problem set to make sure to do it well and understand what you've done. If you find your gradient descent algorithm is taking more than a few minutes to complete, debug more, compare notes with others, and go to the TA sessions.\n",
    "* Depending on how well you've done 2.1, parts 2.3 and 3.3 will be relatively painless or incredibly painful. \n",
    "* Part 3 (especially 3.3) will be computationally intensive. Don't leave this until the last minute, otherwise your code might be running when the deadline arrives.\n",
    "* Do the extra credit problems last."
   ]
  },
  {
   "cell_type": "markdown",
   "metadata": {},
   "source": [
    "---\n",
    "\n",
    "## Introduction to the assignment\n",
    "\n",
    "As with the last assignment, you will be using the [Boston Housing Prices Data Set](http://archive.ics.uci.edu/ml/datasets/Housing)."
   ]
  },
  {
   "cell_type": "code",
   "execution_count": 1,
   "metadata": {
    "collapsed": false
   },
   "outputs": [],
   "source": [
    "from __future__ import division\n",
    "import IPython\n",
    "import numpy as np\n",
    "import scipy as sp\n",
    "import pandas as pd\n",
    "import matplotlib\n",
    "import sklearn\n",
    "\n",
    "from sklearn.datasets import load_boston\n",
    "from sklearn import linear_model\n",
    "\n",
    "\n",
    "bdata = load_boston()\n",
    "boston = pd.DataFrame(bdata.data)\n",
    "\n",
    "boston.columns = bdata.feature_names[:]\n",
    "boston['MEDV'] = bdata.target"
   ]
  },
  {
   "cell_type": "markdown",
   "metadata": {},
   "source": [
    "---\n",
    "\n",
    "## Part 1: Getting oriented\n",
    "\n",
    "Use different learning rates\n",
    "\n",
    "### 1.1 Use existing libraries\n",
    "\n",
    "Soon, you will write your own gradient descent algorithm, which you will then use to minimize the squared error cost function.  First, however, let's use the canned versions that come with Python, to make sure we understand what we're aiming to achieve.\n",
    "\n",
    "Using the same Boston housing prices dataset, use the [Linear Regression class](http://scikit-learn.org/stable/modules/generated/sklearn.linear_model.LinearRegression.html) from sklearn or the [OLS class](http://wiki.scipy.org/Cookbook/OLS) from SciPy to explore the relationship between  median housing price and number of rooms per house. Do this by first (a) regressing the housing price on the number of rooms per house, and then (b) regressing the housing price on the number of rooms per house and the (number of rooms per house) squared.  **Interpret your results.**"
   ]
  },
  {
   "cell_type": "code",
   "execution_count": 2,
   "metadata": {
    "collapsed": false
   },
   "outputs": [
    {
     "name": "stdout",
     "output_type": "stream",
     "text": [
      "Intercept: [-34.67062078]\n",
      "coef: [[ 9.10210898]]\n",
      "Intercept: [ 66.05884748]\n",
      "Coef: [[-22.64326237   2.47012384]]\n"
     ]
    }
   ],
   "source": [
    "%matplotlib inline \n",
    "import matplotlib.pyplot as plt\n",
    "from sklearn import linear_model\n",
    " \n",
    "\n",
    "x = boston.RM[:, np.newaxis]\n",
    "y = bdata.target[:, np.newaxis]\n",
    "\n",
    "regr = linear_model.LinearRegression()\n",
    "regr = regr.fit(x,y)\n",
    "print 'Intercept: ' + str(regr.intercept_)\n",
    "print 'coef: ' + str(regr.coef_)\n",
    "\n",
    "firstInter = regr.intercept_\n",
    "firstCoef = regr.coef_ \n",
    "\n",
    "xsq = [x,x**2]\n",
    "data = pd.DataFrame()\n",
    "data['x'] = boston.RM\n",
    "\n",
    "data['x2'] = (boston.RM ** 2)\n",
    "newReg = linear_model.LinearRegression()\n",
    "newReg = newReg.fit(data,y)\n",
    "\n",
    "print 'Intercept: ' + str(newReg.intercept_)\n",
    "print 'Coef: '+ str(newReg.coef_)\n",
    "\n",
    "coef2 = newReg.coef_\n",
    "inter2 = newReg.intercept_"
   ]
  },
  {
   "cell_type": "markdown",
   "metadata": {},
   "source": [
    "Intercept is -34 and slope is 9.1 so for everyroom the price of the house goes up by 9 thousond."
   ]
  },
  {
   "cell_type": "markdown",
   "metadata": {},
   "source": [
    "### 1.2 Training and testing\n",
    "\n",
    "Chances are, for the above problem you used all of your data to fit the regression line. In some circumstances this is a reasonable thing to do, but often this will result in overfitting. Let's redo the above results the ML way, using careful cross-validation.  Since you are now experts in cross-validation, and have written your own cross-validation algorithm from scratch, you can now take a shortcut and use the libraries that others have built for you.\n",
    "\n",
    "Using the [cross-validation functions](http://scikit-learn.org/stable/modules/cross_validation.html) from scikit-learn, use k-fold cross-validation to fit regression (a) above, i.e. the linear fit of housing price on number of rooms per house. Each fold of cross-validation will give you one slope coefficient and one intercept coefficient.  Plot the distribution of the k slope coefficients, and draw a vertical line at the value of the slope coefficient that you estimated in 1.1 using the full dataset.  What do you observe?"
   ]
  },
  {
   "cell_type": "code",
   "execution_count": 3,
   "metadata": {
    "collapsed": false
   },
   "outputs": [],
   "source": [
    "%matplotlib inline \n",
    "from sklearn import cross_validation\n",
    "from sklearn.cross_validation import train_test_split\n",
    "train, test = train_test_split(boston['MEDV'], test_size=0.34, random_state=4973)"
   ]
  },
  {
   "cell_type": "code",
   "execution_count": 91,
   "metadata": {
    "collapsed": false
   },
   "outputs": [
    {
     "data": {
      "image/png": "[encoded data removed]",
      "text/plain": [
       "<matplotlib.figure.Figure at 0xa2e7f60>"
      ]
     },
     "metadata": {},
     "output_type": "display_data"
    }
   ],
   "source": [
    "kf = cross_validation.KFold(len(boston), n_folds=10, shuffle=True, random_state=4)\n",
    "coef = []\n",
    "reg = linear_model.LinearRegression()\n",
    "for train, test in kf:\n",
    "    train = boston.loc[train]\n",
    "    data = pd.DataFrame()\n",
    "    data['x'] = train['RM']\n",
    "    reg = reg.fit(data,train.MEDV)\n",
    "    coef.append(reg.coef_[0]) \n",
    "    \n",
    "# Plot outputs\n",
    "plt.hist(coef,color = 'yellow')\n",
    "plt.axvline(firstCoef ,color = 'purple')\n",
    "plt.show()"
   ]
  },
  {
   "cell_type": "markdown",
   "metadata": {},
   "source": [
    "It looks like the mjority of houses have 3 rooms and for every room the house goes up in price by 9 thousond"
   ]
  },
  {
   "cell_type": "markdown",
   "metadata": {},
   "source": [
    "### 1.3 Regression lines\n",
    "\n",
    "Create a scatterplot of housing price on rooms per house, and add the two regression lines from 1.1 (or 1.2 if you prefer to do so). Show the linear regression line in red, and the linear+quadratic regression line (which may have curvature) in blue.  Label these two regression lines with the corresponding regression equations (i.e. the slope and intercept of the line).\n",
    "\n",
    "Bonus: Add the 95% confidence bands (i.e.,  the area that has a 95% chance of containing the true regression line) to each of these lines."
   ]
  },
  {
   "cell_type": "markdown",
   "metadata": {},
   "source": [
    "\n"
   ]
  },
  {
   "cell_type": "code",
   "execution_count": 5,
   "metadata": {
    "collapsed": false
   },
   "outputs": [
    {
     "data": {
      "image/png": "[encoded data removed]",
      "text/plain": [
       "<matplotlib.figure.Figure at 0xa0205f8>"
      ]
     },
     "metadata": {},
     "output_type": "display_data"
    }
   ],
   "source": [
    "plt.scatter(boston['RM'],boston['MEDV'],color = 'orange')\n",
    "plt.plot(x,regr.predict(x), color = 'darkred')\n",
    "coefs = coef2[0][0]\n",
    "coefs2 = coef2[0][1]\n",
    "plt.plot(np.linspace(3,10,50), coefs * np.linspace(3,10,50) + coefs2 * np.linspace(3,10,50) ** 2 + inter2 , color = 'blue')\n",
    "axes = plt.gca()\n",
    "axes.set_xlim(3,9.5)\n",
    "axes.set_ylim(0,55)\n",
    "\n",
    "plt.show()"
   ]
  },
  {
   "cell_type": "markdown",
   "metadata": {},
   "source": [
    "## Part 2: Gradient descent: Linear Regression\n",
    "\n",
    "This is where it gets fun!\n",
    "\n",
    "### 2.1 Implement gradient descent with one independent variable (Average rooms per house)\n",
    "\n",
    "Implement the basic gradient descent algorithm that we discussed in class. Use the version you implement to regress the housing price on the number of rooms per house. Experiment with 3-4 different values of the learning rate *R*, and do the following:\n",
    "\n",
    "* Report the values of alpha and beta that minimize the loss function\n",
    "* Report the number of iterations it takes for your algorithm to converge (for each value of *R*)\n",
    "* Report the total running time of your algorithm, in seconds\n",
    "\n",
    "Some skeleton code is provided below, but you should feel free to delete this code and start from scratch if you prefer.\n",
    "\n",
    "* *Hint 1: Don't forget to implement a stopping condition, so that at every iteration you check whether your results have converged. Common approaches to this are to (a) check to see if the loss has stopped decreasing; and (b) check if both your current parameter esimates are close to the estimates from the previous iteration.  In both cases, \"close\" should not be ==0, it should be <=epsilon, where epsilon is something very small (like 0.0001).*\n",
    "* *Hint 2: Some people like to include a MaxIterations parameter in their gradient descent algorithm, to prevent divergence. *\n",
    "* *Hint 3: R = 0.005 is a reasonable first guess - but try some others to see how it affects your results. *"
   ]
  },
  {
   "cell_type": "code",
   "execution_count": 93,
   "metadata": {
    "collapsed": false
   },
   "outputs": [
    {
     "name": "stdout",
     "output_type": "stream",
     "text": [
      "Time taken: 9.36 seconds\n",
      "tolerance met\n",
      "31156\n",
      "(-33.839101219068688, 8.9713898912177363)\n",
      "Time taken: 20.55 seconds\n",
      "Max Iter: \n",
      "70000\n",
      "(-19.486291192117807, 6.7150553907242578)\n",
      "Time taken: 14.78 seconds\n",
      "tolerance met\n",
      "50783\n",
      "(-33.007336218346211, 8.8406322163158144)\n"
     ]
    }
   ],
   "source": [
    "import time\n",
    "\n",
    "\"\"\"\n",
    "Function\n",
    "--------\n",
    "bivariate_ols\n",
    "    Gradient Decent to minimize OLS. Used to find co-efficients of bivariate OLS Linear regression\n",
    "\n",
    "Parameters\n",
    "----------\n",
    "xvalues, yvalues : narray\n",
    "    xvalues: independent variable\n",
    "    yvalues: dependent variable\n",
    "    \n",
    "R: float\n",
    "    Learning rate\n",
    "    \n",
    "MaxIterations: Int\n",
    "    maximum number of iterations\n",
    "    \n",
    "\n",
    "Returns\n",
    "-------\n",
    "alpha: float\n",
    "    intercept\n",
    "    \n",
    "beta: float\n",
    "    co-efficient\n",
    "\"\"\"\n",
    "#def calc_cost()\n",
    "\n",
    "def bivariate_ols(xvalues, yvalues, R=0.01, MaxIterations=1000, tol=0.005, alpha=0.0, beta=0.0):    \n",
    "\n",
    "    start_time = time.time()\n",
    "\n",
    "    # initialize the parameters\n",
    "\n",
    "    alphaCurr = alpha\n",
    "    betaCurr = beta\n",
    "    \n",
    "    for i in range(0,MaxIterations):\n",
    "        alpha = alphaCurr\n",
    "        beta = betaCurr\n",
    "        alphaCurr = alpha - (R/len(xvalues))*sum(alpha+np.dot(beta, xvalues) - yvalues)\n",
    "        betaCurr = beta - (R/len(xvalues))*np.dot((alpha+np.dot(beta, xvalues) - yvalues), xvalues)\n",
    "        \n",
    "        aDiff = abs(alphaCurr - alpha)\n",
    "        bDiff = abs(betaCurr - beta)\n",
    "        \n",
    "#         costCurr = 1/(2.0*len(xvalues)) + sum((alphaCurr + np.dot(betaCurr, xvalues) - yvalues)**2)\n",
    "#         costPrev = 1/(2.0*len(xvalues)) + sum((alpha + np.dot(beta, xvalues) - yvalues)**2)\n",
    "         \n",
    "#         if costCurr > costPrev:\n",
    "#             print \"Time taken: \" + str(round(time.time() - start_time,2)) + \" seconds\"\n",
    "#             print \"Diverging\"\n",
    "#             print i\n",
    "#             return alphaCurr, betaCurr\n",
    "        if aDiff <=tol and bDiff <= tol:\n",
    "            print \"Time taken: \" + str(round(time.time() - start_time,2)) + \" seconds\"\n",
    "            print 'tolerance met'\n",
    "            print i\n",
    "            return alphaCurr, betaCurr\n",
    "        \n",
    "    print \"Time taken: \" + str(round(time.time() - start_time,2)) + \" seconds\"\n",
    "    print 'Max Iter: '\n",
    "    print MaxIterations\n",
    "    return alphaCurr, betaCurr\n",
    "\n",
    "# example function call\n",
    "print bivariate_ols(xvalues=boston['RM'], yvalues=boston['MEDV'], MaxIterations=70000,R=0.01,tol=.0001)\n",
    "print bivariate_ols(xvalues=boston['RM'], yvalues=boston['MEDV'], MaxIterations=70000, R=0.001, tol=.0001)\n",
    "print bivariate_ols(xvalues=boston['RM'], yvalues=boston['MEDV'], MaxIterations=70000, R=0.005, tol=.0001)"
   ]
  },
  {
   "cell_type": "markdown",
   "metadata": {},
   "source": [
    "*Enter your observations here*"
   ]
  },
  {
   "cell_type": "markdown",
   "metadata": {},
   "source": [
    "### 2.2 Data normalization\n",
    "\n",
    "Soon, you will implement a version of gradient descent that can use an arbitrary number of independent variables. Before doing this, however, you should re-scale your features to ensure that no single feature dominates the cost function. Write a simple function to [standardize](http://en.wikipedia.org/wiki/Standard_score) a feature. * This is done for you!*"
   ]
  },
  {
   "cell_type": "code",
   "execution_count": 7,
   "metadata": {
    "collapsed": false
   },
   "outputs": [
    {
     "name": "stdout",
     "output_type": "stream",
     "text": [
      "Time taken: 0.24 seconds\n",
      "tolerance met\n",
      "769\n",
      "(22.522990763165684, 6.3861921075099595)\n"
     ]
    }
   ],
   "source": [
    "def standardize(raw_data):\n",
    "    return ((raw_data - np.mean(raw_data, axis = 0)) / np.std(raw_data, axis = 0))\n",
    "\n",
    "features = pd.DataFrame()\n",
    "features['CRIM'] = standardize(boston.CRIM)\n",
    "features['RM'] = standardize(boston.RM)\n",
    "features['MEDV'] = boston['MEDV']\n",
    "print bivariate_ols(xvalues=features['RM'], yvalues=boston['MEDV'], MaxIterations=1000, tol=.0001)"
   ]
  },
  {
   "cell_type": "markdown",
   "metadata": {},
   "source": [
    "### 2.3 Implement gradient descent with an arbitrary number of independent variables\n",
    "\n",
    "Now that you have a simple version of gradient descent working, create a version of gradient descent that can take more than one independent variable.  Assume all independent variables will be continuous.  Test your algorithm using CRIM and RM as independent variables. Standardize these variables before before inputting them to the gradient descent algorithm. \n",
    "\n",
    "As before,  report and interpret your estimated coefficients, the number of iterations before convergence, and the total running time of your algorithm. Experiment with 2-3 different values of R.\n",
    "\n",
    "* *Hint 1: Be careful to implement this efficiently, otherwise it might take a long time for your code to run. Commands like `np.dot` can be a good friend to you on this problem - see 2.2 above for an example.*"
   ]
  },
  {
   "cell_type": "code",
   "execution_count": 8,
   "metadata": {
    "collapsed": false
   },
   "outputs": [
    {
     "name": "stdout",
     "output_type": "stream",
     "text": [
      "Time taken: 0.32 seconds\n",
      "tollerance: \n",
      "10018\n",
      "(22.531807608542223, array([ 5.89366345, -2.24932263]))\n"
     ]
    }
   ],
   "source": [
    "\"\"\"\n",
    "Function\n",
    "--------\n",
    "multivariate_ols\n",
    "    Gradient Decent to minimize OLS. Used to find co-efficients of bivariate OLS Linear regression\n",
    "\n",
    "Parameters\n",
    "----------\n",
    "xvalue_matrix, yvalues : narray\n",
    "    xvalue_matrix: independent variable\n",
    "    yvalues: dependent variable\n",
    "    \n",
    "R: float\n",
    "    Learning rate\n",
    "    \n",
    "MaxIterations: Int\n",
    "    maximum number of iterations\n",
    "    \n",
    "\n",
    "Returns\n",
    "-------\n",
    "alpha: float\n",
    "    intercept\n",
    "    \n",
    "beta_array: array[float]\n",
    "    co-efficient\n",
    "\"\"\"\n",
    "\n",
    "def multivariate_ols(xvalue_matrix, yvalues, R=0.001, MaxIterations=1000,tol = 0.001,alpha = 0.0, betas = None, prints = False):\n",
    "    start_time = time.time()\n",
    "\n",
    "    xvalue_matrix = xvalue_matrix.values\n",
    "    yvalues = yvalues.values\n",
    "    feat = xvalue_matrix.shape[1]\n",
    "    \n",
    "    alpha = 0\n",
    "    beta = np.zeros(feat)\n",
    "        \n",
    "    for i in range(0,MaxIterations):\n",
    "        alphaCurr = np.sum(alpha + xvalue_matrix.dot(beta) - yvalues) / len(yvalues)\n",
    "        betaCurr = np.sum((alpha + xvalue_matrix.dot(beta) - yvalues) * xvalue_matrix.T, axis=1) / len(yvalues)\n",
    "        \n",
    "        alpha = alpha - (R * alphaCurr)\n",
    "        beta = beta - (R * betaCurr)\n",
    "        \n",
    "        if abs(alphaCurr) <= tol and (np.abs(betaCurr) <= tol).all():\n",
    "            if prints == True:\n",
    "                print \"Time taken: \" + str(round(time.time() - start_time,2)) + \" seconds\"\n",
    "                print 'tollerance: '\n",
    "                print i\n",
    "            return alpha, beta\n",
    "    if prints == True:\n",
    "        print \"Time taken: \" + str(round(time.time() - start_time,2)) + \" seconds\"\n",
    "        print 'Max Iter: '\n",
    "        print MaxIterations  \n",
    "    return alpha, beta\n",
    "\n",
    "xvalue_matrix = features[['RM', 'CRIM']]\n",
    "print multivariate_ols(xvalue_matrix, yvalues=boston['MEDV'], R=0.001, MaxIterations=100000,tol = 0.001,prints=True)"
   ]
  },
  {
   "cell_type": "markdown",
   "metadata": {},
   "source": [
    "*Enter your observations here*"
   ]
  },
  {
   "cell_type": "markdown",
   "metadata": {},
   "source": [
    "### 2.4 Compare standardized vs. non-standardized results\n",
    "\n",
    "Repeat the analysis from 2.3, but this time do not standardize your variables - i.e., use the original data. Use the same three values of R (0.1, 0.01, and 0.001). What do you notice about the running time and convergence properties of your algorithm?"
   ]
  },
  {
   "cell_type": "code",
   "execution_count": 9,
   "metadata": {
    "collapsed": false
   },
   "outputs": [
    {
     "name": "stdout",
     "output_type": "stream",
     "text": [
      "(nan, array([ nan,  nan]))\n",
      "(-29.21243058278711, array([ 8.38365985, -0.26212102]))\n",
      "(-19.554309511792823, array([ 6.88254095, -0.29438153]))\n"
     ]
    }
   ],
   "source": [
    "xvalue_matrix = boston[['RM','CRIM']]\n",
    "print multivariate_ols(xvalue_matrix, yvalues=boston['MEDV'], R=0.1, MaxIterations=100000,tol = 0.001)\n",
    "print multivariate_ols(xvalue_matrix, yvalues=boston['MEDV'], R=0.01, MaxIterations=100000,tol = 0.001)\n",
    "print multivariate_ols(xvalue_matrix, yvalues=boston['MEDV'], R=0.001, MaxIterations=100000,tol = 0.001)\n",
    "\n",
    "# The learning rate of .1 is too big and it diverges and gives nan values. However a learning rate of .01 gives us the \n",
    "# closest pridiction to the actul values of -34 and 9 somthing"
   ]
  },
  {
   "cell_type": "raw",
   "metadata": {},
   "source": [
    "# 3. Prediction\n",
    "\n",
    "Let's use our fitted model to make predictions about housing prices. Since the focus is now on prediction rather than the interpretation of the coefficients, make sure to use the standardized version of your features in everything that follows.\n",
    "\n",
    "### 3.1 Cross-Validation\n",
    "\n",
    "Unless you were careful above, you probably overfit your data again.  Use 10-fold cross-validation to re-fit the multivariate regression from 2.3 above, and report your estimated coefficients (there should be three coefficients for each fold, corresponding to the intercept and the two coefficients for CRIM and RM). \n",
    "\n",
    "How do your estimated coefficients from cross-validation compare to the ones you estimated in 2.3 above? How do they compare to the ones estimated using standard packages?"
   ]
  },
  {
   "cell_type": "code",
   "execution_count": 10,
   "metadata": {
    "collapsed": false
   },
   "outputs": [
    {
     "name": "stdout",
     "output_type": "stream",
     "text": [
      "(22.548755279254774, array([ 5.75519686, -2.39055794]))\n",
      "\n",
      "(22.420319330274321, array([ 5.88716597, -2.13781185]))\n",
      "\n",
      "(22.599424717707382, array([ 5.88568777, -2.15107243]))\n",
      "\n",
      "(22.408084042605878, array([ 5.96935347, -2.51405262]))\n",
      "\n",
      "(22.560089256530976, array([ 5.96001629, -2.29649641]))\n",
      "\n",
      "(22.513245910540174, array([ 5.86555029, -2.3800693 ]))\n",
      "\n",
      "(22.59673928258669, array([ 5.96276698, -2.20067002]))\n",
      "\n",
      "(22.584739494876747, array([ 5.8516898 , -2.13859798]))\n",
      "\n",
      "(22.40769486602106, array([ 5.90497359, -2.24511585]))\n",
      "\n",
      "(22.665938567336489, array([ 5.88495522, -2.17828344]))\n",
      "\n"
     ]
    }
   ],
   "source": [
    "kf = cross_validation.KFold(len(features), n_folds=10, shuffle=True, random_state=4)\n",
    "count = 0\n",
    "for train, test in kf:\n",
    "    count += 1\n",
    "    train = features.loc[train]\n",
    "    test = features.loc[test]\n",
    "    data_train = pd.DataFrame()\n",
    "    data_test = pd.DataFrame()\n",
    "    \n",
    "    data_train['RM'] = train['RM']\n",
    "    data_train['CRIM'] = train['CRIM']\n",
    "    \n",
    "    data_test['RM'] = test['RM']\n",
    "    data_test['CRIM'] = test['CRIM']\n",
    "    \n",
    "    xvalue_matrix = data_train[['RM', 'CRIM']]\n",
    "    print multivariate_ols(xvalue_matrix, yvalues=train['MEDV'], R=0.5, MaxIterations=10000,tol = 0.000001)\n",
    "    print ''"
   ]
  },
  {
   "cell_type": "markdown",
   "metadata": {},
   "source": [
    "All of the coefecients are actully very close to the ones we got in 2.3 all the 1's digits are the same and there are slight variateions in the 10's places. I also found that a large learning converges very fast.  "
   ]
  },
  {
   "cell_type": "markdown",
   "metadata": {},
   "source": [
    "### 3.2 Predicted values and RMSE\n",
    "\n",
    "Let's figure out how accurate this predictive model turned out to be. Report the average 10-fold cross-validated RMSE, separately for the training data and for the testing data. \n",
    "\n",
    "In other words, run 10-fold cross-validation. In each of the 10 iterations, you will fit a model on 90% of the data. Use that model to generate predicted outputs for 100% of the data. For that iteration, the training RMSE is the RMSE calculated across the (90%) training data, and the test RMSE is the RMSE calculated across the (10%) test data. The average 10-fold cross-validated RMSE is the average of the 10 iterations.\n",
    "\n",
    "What is your test RMSE?  How does it compare to the performance of your nearest neighbor algorithm from the last problem set?"
   ]
  },
  {
   "cell_type": "code",
   "execution_count": 11,
   "metadata": {
    "collapsed": false
   },
   "outputs": [
    {
     "name": "stdout",
     "output_type": "stream",
     "text": [
      "RMSE 1: 6.2242936092\n",
      "RMSE 2: 6.11346760156\n"
     ]
    }
   ],
   "source": [
    "from sklearn.metrics import mean_squared_error\n",
    "from math import sqrt\n",
    "\n",
    "kf = cross_validation.KFold(len(features), n_folds=10, shuffle=True, random_state=4)\n",
    "count = 0\n",
    "\n",
    "rmseTest = []\n",
    "rmseTrain = []\n",
    "for train, test in kf:\n",
    "    count += 1\n",
    "    train = features.loc[train]\n",
    "    test = features.loc[test]\n",
    "    \n",
    "    data_train = pd.DataFrame()\n",
    "    data_test = pd.DataFrame()\n",
    "    data_train['RM'] = train['RM']\n",
    "    data_train['CRIM'] = train['CRIM']\n",
    "    data_test['RM'] = test['RM']\n",
    "    data_test['CRIM'] = test['CRIM']\n",
    "    \n",
    "\n",
    "    xvalue_matrix = data_train[['RM', 'CRIM']]\n",
    "    a,b =  multivariate_ols(xvalue_matrix, yvalues=train['MEDV'], R=0.001, MaxIterations=10000,tol = 0.000001,alpha = 0.0, betas = [0.0,0.0])\n",
    "    yHat = a + b[0] * train['RM'] + b[1] * train['CRIM']\n",
    "    yvalue = train['MEDV']\n",
    "    rmseTrain.append(sqrt(mean_squared_error(yvalue,yHat)))\n",
    "    \n",
    "    xvalue_matrix = data_test[['RM', 'CRIM']]\n",
    "    yHat = a + b[0] * test['RM'] + b[1] * test['CRIM']\n",
    "    yvalue = test['MEDV']\n",
    "    rmseTest.append(sqrt(mean_squared_error(yvalue,yHat)))\n",
    "\n",
    "print 'RMSE 1: ' + str(np.mean(rmseTrain))\n",
    "print 'RMSE 2: ' + str(np.mean(rmseTest))\n",
    "\n"
   ]
  },
  {
   "cell_type": "markdown",
   "metadata": {},
   "source": [
    "The RMSE is pretty good. I think the RMSE in KNN was around 9 so this is getting a better pridiction then KNN"
   ]
  },
  {
   "cell_type": "markdown",
   "metadata": {},
   "source": [
    "### Extra Credit: Logistic Regression\n",
    "\n",
    "For extra credit, implement logistic regression using gradient descent. Create a new variable (EXPENSIVE) to indicate whether the median housing price is more than $400,000. Use your model  a logistic regression of EXPENSIVE on CHAS and RM. Report your results."
   ]
  },
  {
   "cell_type": "code",
   "execution_count": 103,
   "metadata": {
    "collapsed": false
   },
   "outputs": [
    {
     "name": "stdout",
     "output_type": "stream",
     "text": [
      "                            OLS Regression Results                            \n",
      "==============================================================================\n",
      "Dep. Variable:              EXPENSIVE   R-squared:                       0.259\n",
      "Model:                            OLS   Adj. R-squared:                  0.256\n",
      "Method:                 Least Squares   F-statistic:                     87.80\n",
      "Date:                Mon, 16 May 2016   Prob (F-statistic):           1.96e-33\n",
      "Time:                        11:18:32   Log-Likelihood:                 80.289\n",
      "No. Observations:                 506   AIC:                            -154.6\n",
      "Df Residuals:                     503   BIC:                            -141.9\n",
      "Df Model:                           2                                         \n",
      "Covariance Type:            nonrobust                                         \n",
      "==============================================================================\n",
      "                 coef    std err          t      P>|t|      [95.0% Conf. Int.]\n",
      "------------------------------------------------------------------------------\n",
      "Intercept     -0.9890      0.083    -11.902      0.000        -1.152    -0.826\n",
      "CHAS           0.1072      0.036      2.941      0.003         0.036     0.179\n",
      "RM             0.1659      0.013     12.599      0.000         0.140     0.192\n",
      "==============================================================================\n",
      "Omnibus:                      279.776   Durbin-Watson:                   1.290\n",
      "Prob(Omnibus):                  0.000   Jarque-Bera (JB):             1668.903\n",
      "Skew:                           2.457   Prob(JB):                         0.00\n",
      "Kurtosis:                      10.417   Cond. No.                         58.5\n",
      "==============================================================================\n",
      "\n",
      "Warnings:\n",
      "[1] Standard Errors assume that the covariance matrix of the errors is correctly specified.\n"
     ]
    }
   ],
   "source": [
    "import statsmodels.api as sm\n",
    "import statsmodels.formula.api as smf\n",
    "lrData = pd.DataFrame()\n",
    "lrData =  boston\n",
    "lrData['EXPENSIVE'] = np.zeros(506)\n",
    "count = 0\n",
    "for each in lrData['MEDV']:\n",
    "    if each >= 40:\n",
    "        lrData['EXPENSIVE'][count] = 1\n",
    "    else:\n",
    "        lrData['EXPENSIVE'][count] = 0\n",
    "    count += 1\n",
    "overfit_mod = smf.ols(formula='EXPENSIVE ~ CHAS + RM', data = lrData)\n",
    "overfit_result = overfit_mod.fit()\n",
    "print overfit_result.summary()\n",
    "\n",
    "# It looks like being on the river, and having more rooms in your house is slightly corrolated with having an\n",
    "# 'Expensive house' There are only a few data points in this data that actully meet the threshold for expensive so\n",
    "# that would skey the data slightly"
   ]
  },
  {
   "cell_type": "code",
   "execution_count": null,
   "metadata": {
    "collapsed": false
   },
   "outputs": [],
   "source": []
  },
  {
   "cell_type": "markdown",
   "metadata": {},
   "source": [
    "*Discuss your results here*"
   ]
  },
  {
   "cell_type": "markdown",
   "metadata": {},
   "source": [
    "## 4 Regularization \n",
    "\n",
    "### 4.1 Get prepped\n",
    "\n",
    "Step 1: For each of the continuous features F in the original dataset, create a standardized version F_1.  Now, create polynomials up to degree 6 of each F_1: the square of F_1 (call this F_2); the cube of F_1 (call this F_3); and so forth up to F_6. If you originally had *K* features, you should now have *6K* features (i.e., we're going to ignore the original unscaled features for the remainder of this problem).\n",
    "\n",
    "Step 2: For simplicity, generate a single training and testing set.  Randomly sample 66% of your data and call this the training set, and set aside the remaining 34% as your test set."
   ]
  },
  {
   "cell_type": "markdown",
   "metadata": {},
   "source": [
    "### 4.2 Let's overfit!\n",
    "Now, using your version of multivariate regression from 2.3, (over)fit your model on the training data. Using your training set, regress housing price on as many of those *6K* features as you can.  If you get too greedy, or if you did not efficiently implement your solution to 2.3, it's possible this will take a long time to compute.\n",
    "\n",
    "Report the RMSE when you apply your model to your training set and to your testing set. How do these numbers compare to each other, and to the RMSE from 2.5 and nearest neighbors?"
   ]
  },
  {
   "cell_type": "code",
   "execution_count": 34,
   "metadata": {
    "collapsed": false
   },
   "outputs": [],
   "source": [
    "allFeatures =standardize(boston)\n",
    "\n",
    "allFeatures = allFeatures.drop('CHAS',axis = 1)\n",
    "allFeatures = allFeatures.drop('MEDV',axis = 1)\n",
    "lists = []\n",
    "for i in range(0,6):\n",
    "    data = allFeatures ** (i + 1)\n",
    "    data.columns = allFeatures.columns + str(i + 1)\n",
    "    lists.append(data)\n",
    "    \n",
    "allFeatures =  pd.concat(lists,axis = 1)\n",
    "x_train,x_test,y_train,y_test = train_test_split(allFeatures,boston['MEDV'] ,test_size=0.33, random_state=4)\n",
    "\n"
   ]
  },
  {
   "cell_type": "code",
   "execution_count": 40,
   "metadata": {
    "collapsed": false,
    "scrolled": true
   },
   "outputs": [
    {
     "name": "stdout",
     "output_type": "stream",
     "text": [
      "23.4841982807\n",
      "25.9396900726\n"
     ]
    }
   ],
   "source": [
    "\n",
    "xvalue_matrix = x_train\n",
    "a,b =  multivariate_ols(xvalue_matrix =x_train , yvalues=y_train, R=0.0000000000001, MaxIterations=100000,tol = 0.001)\n",
    "\n",
    "yHat = a + np.dot(x_train,b)\n",
    "\n",
    "yvalue = y_train\n",
    "print sqrt(mean_squared_error(yvalue,yHat))\n",
    "\n",
    "yHat = a + np.dot(x_test,b)\n",
    "yvalue = y_test\n",
    "print sqrt(mean_squared_error(yvalue,yHat))"
   ]
  },
  {
   "cell_type": "markdown",
   "metadata": {},
   "source": [
    "Train: 23.4841982807\n",
    "Test: 25.9396900726\n",
    "\n",
    "it would make sense the the training RMSE is slightly lower then the training RMSE. However compared to the KNN it is very far off. I belive KNN was close to 9"
   ]
  },
  {
   "cell_type": "markdown",
   "metadata": {},
   "source": [
    "### 4.3 Ridge regularization\n",
    "Incorporate L2 (Ridge) regularization into your multivariate_ols regression. Write a new version of your gradient descent algorithm that includes a regularization term \"lambda\" to penalize excessive complexity. \n",
    "\n",
    "Use your regularized regression to re-fit the model from 4.2 above on your training data. Try this for several different values of lambda, and report your RMSE for each lambda separately for your training and testing data. How do these numbers compare to each other, to the RMSE from 4.2,  to the RMSE from 2.3, and to the RMSE from nearest neighbors?\n",
    "\n",
    "Go brag to your friends about how you just implemented ridge-regularized multivariate regression using gradient descent optimization, from scratch. If you still have friends."
   ]
  },
  {
   "cell_type": "code",
   "execution_count": 86,
   "metadata": {
    "collapsed": false
   },
   "outputs": [
    {
     "name": "stdout",
     "output_type": "stream",
     "text": [
      "Time taken: 0.2 seconds\n",
      "tolerance met\n",
      "5415\n",
      "(22.432921498491098, array([ 5.86231783, -2.26975417]))\n",
      "Time taken: 0.12 seconds\n",
      "tolerance met\n",
      "4521\n",
      "(18.731136921889036, array([ 4.93513076, -2.06117271]))\n",
      "Time taken: 0.05 seconds\n",
      "tolerance met\n",
      "1818\n",
      "(7.5373313320798987, array([ 2.06191109, -1.03693785]))\n",
      "Time taken: 0.3 seconds\n",
      "Max Iter: \n",
      "10000\n",
      "(nan, array([ nan,  nan]))\n"
     ]
    }
   ],
   "source": [
    "def multivariate_ols_ridge(xvalue_matrix, yvalues, R=0.01, MaxIterations=1000,tol = 0.001,alpha = 0.0, lamda = 0, betas = None, ):\n",
    "    start_time = time.time()\n",
    "\n",
    "    # initialize the parameters\n",
    "    \n",
    "    # add flag for if not a series\n",
    "    \n",
    "    if betas == None:\n",
    "        betaCurr = np.zeros( xvalue_matrix.shape[1])\n",
    "    else:\n",
    "        betaCurr = np.array(betas)\n",
    "        \n",
    "    xvalue_matrix = xvalue_matrix.values\n",
    "    yvalues = yvalues.values\n",
    "    alphaCurr = alpha\n",
    "    \n",
    "    for i in range(0,MaxIterations):\n",
    "        alpha = alphaCurr\n",
    "        beta = betaCurr\n",
    "\n",
    "        \n",
    "        alphaCurr = alpha * (1 - (R * (lamda /len(yvalues)))) - (xvalue_matrix.dot(beta) + alpha - yvalues).sum() * (R / len(yvalues))\n",
    "                 \n",
    "        betaCurr = beta * (1 - (R * (lamda /len(yvalues)))) - (R/len(yvalues))* ((np.dot(xvalue_matrix , beta) + alpha - yvalues) * xvalue_matrix.transpose()).sum(axis=1)\n",
    "                                                                 \n",
    "        alphaDiff = alpha - alphaCurr\n",
    "        betaDiff =  beta - betaCurr\n",
    "        \n",
    "        if abs(alphaDiff) <=tol and abs(betaDiff <= tol).all():\n",
    "            print \"Time taken: \" + str(round(time.time() - start_time,2)) + \" seconds\"\n",
    "            print 'tolerance met'\n",
    "            print i\n",
    "            return alphaCurr, betaCurr\n",
    "        \n",
    "    print \"Time taken: \" + str(round(time.time() - start_time,2)) + \" seconds\"\n",
    "    print 'Max Iter: '\n",
    "    print MaxIterations\n",
    "    return alphaCurr, betaCurr\n",
    "\n",
    "\n",
    "xvalue_matrix = features[['RM', 'CRIM']]\n",
    "print multivariate_ols_ridge(xvalue_matrix, yvalues=boston['MEDV'], R=0.001, MaxIterations=10000,tol = 0.0001,alpha = 0.0,lamda = 0,betas = None)\n",
    "print multivariate_ols_ridge(xvalue_matrix, yvalues=boston['MEDV'], R=0.001, MaxIterations=10000,tol = 0.0001,alpha = 0.0,lamda = 100,betas = None)\n",
    "print multivariate_ols_ridge(xvalue_matrix, yvalues=boston['MEDV'], R=0.001, MaxIterations=10000,tol = 0.0001,alpha = 0.0,lamda = 1000,betas = None)\n",
    "print multivariate_ols_ridge(xvalue_matrix, yvalues=boston['MEDV'], R=0.001, MaxIterations=10000,tol = 0.0001,alpha = 0.0,lamda = 10000000,betas = None)"
   ]
  },
  {
   "cell_type": "code",
   "execution_count": 90,
   "metadata": {
    "collapsed": false
   },
   "outputs": [
    {
     "name": "stdout",
     "output_type": "stream",
     "text": [
      "Time taken: 0.0 seconds\n",
      "tolerance met\n",
      "0\n",
      " \n",
      "Train lamda = 0: 23.5186742332\n",
      " \n",
      "Test lamda = 0: 25.9403308522\n",
      " \n",
      "Time taken: 0.02 seconds\n",
      "tolerance met\n",
      "0\n",
      " \n",
      "Train lamda = 1000: 23.5186742332\n",
      " \n",
      "Test lamda = 1000: 25.9403308522\n",
      " \n",
      "Time taken: 0.0 seconds\n",
      "tolerance met\n",
      "0\n",
      " \n",
      "Train lamda = 2000: 23.5186742332\n",
      " \n",
      "Test lamda = 2000: 25.9403308522\n",
      " \n",
      "Time taken: 0.0 seconds\n",
      "tolerance met\n",
      "0\n",
      " \n",
      "Train lamda = 3000: 23.5186742332\n",
      " \n",
      "Test lamda = 3000: 25.9403308522\n",
      " \n",
      "Time taken: 0.0 seconds\n",
      "tolerance met\n",
      "0\n",
      " \n",
      "Train lamda = 4000: 23.5186742332\n",
      " \n",
      "Test lamda = 4000: 25.9403308522\n",
      " \n",
      "Time taken: 0.0 seconds\n",
      "tolerance met\n",
      "0\n",
      " \n",
      "Train lamda = 5000: 23.5186742332\n",
      " \n",
      "Test lamda = 5000: 25.9403308522\n",
      " \n",
      "Time taken: 0.0 seconds\n",
      "tolerance met\n",
      "0\n",
      " \n",
      "Train lamda = 6000: 23.5186742332\n",
      " \n",
      "Test lamda = 6000: 25.9403308522\n",
      " \n",
      "Time taken: 0.0 seconds\n",
      "tolerance met\n",
      "0\n",
      " \n",
      "Train lamda = 7000: 23.5186742332\n",
      " \n",
      "Test lamda = 7000: 25.9403308522\n",
      " \n",
      "Time taken: 0.0 seconds\n",
      "tolerance met\n",
      "0\n",
      " \n",
      "Train lamda = 8000: 23.5186742332\n",
      " \n",
      "Test lamda = 8000: 25.9403308522\n",
      " \n",
      "Time taken: 0.0 seconds\n",
      "tolerance met\n",
      "0\n",
      " \n",
      "Train lamda = 9000: 23.5186742332\n",
      " \n",
      "Test lamda = 9000: 25.9403308522\n",
      " \n"
     ]
    }
   ],
   "source": [
    "x_train,x_test,y_train,y_test = train_test_split(allFeatures,boston['MEDV'] ,test_size=0.33, random_state=4)\n",
    "for i in range(0,10000,1000):\n",
    "    a,b = multivariate_ols_ridge(x_train, yvalues=y_train, R=0.000000001, MaxIterations=10000,tol = 0.0001,alpha = 0.0,lamda = i,betas = None)\n",
    "    \n",
    "    yHat = a + np.dot(x_train, b)\n",
    "    yvalue = y_train\n",
    "    print ' '\n",
    "    print 'Train lamda = ' + str(i) + ': '  + str(sqrt(mean_squared_error(yvalue,yHat)))\n",
    "    print ' '\n",
    "   \n",
    "    yHat = a + np.dot(x_test, b)\n",
    "    yvalue = y_test\n",
    "    \n",
    "    print 'Test lamda = ' + str(i) + ': ' + str(sqrt(mean_squared_error(yvalue,yHat)))\n",
    "    print ' '"
   ]
  },
  {
   "cell_type": "markdown",
   "metadata": {},
   "source": [
    "The RMSE is staying the same between the changes of lamda. and the values are just about the same as the prevous question. They are still slighty high, 23 RMSE and 25 RMSE"
   ]
  },
  {
   "cell_type": "markdown",
   "metadata": {},
   "source": [
    "### Extra Credit 2: Cross-validate lambda\n",
    "\n",
    "Use k-fold cross-validation to select the optimal value of lambda. Report the average RMSE across all training sets, and the average RMSE across all testing sets. How do these numbers compare to each other, to the RMSE from your previous efforts?  Finally, create a scatter plot that shows RMSE as a function of lambda."
   ]
  },
  {
   "cell_type": "code",
   "execution_count": 73,
   "metadata": {
    "collapsed": false
   },
   "outputs": [
    {
     "name": "stdout",
     "output_type": "stream",
     "text": [
      "Time taken: 0.0 seconds\n",
      "tolerance met\n",
      "0\n",
      "Time taken: 0.0 seconds\n",
      "tolerance met\n",
      "0\n",
      "Time taken: 0.0 seconds\n",
      "tolerance met\n",
      "0\n",
      "Time taken: 0.0 seconds\n",
      "tolerance met\n",
      "0\n",
      "Time taken: 0.0 seconds\n",
      "tolerance met\n",
      "0\n",
      "Time taken: 0.0 seconds\n",
      "tolerance met\n",
      "0\n",
      "Time taken: 0.0 seconds\n",
      "tolerance met\n",
      "0\n",
      "Time taken: 0.0 seconds\n",
      "tolerance met\n",
      "0\n",
      "Time taken: 0.0 seconds\n",
      "tolerance met\n",
      "0\n",
      "Time taken: 0.0 seconds\n",
      "tolerance met\n",
      "0\n",
      "Time taken: 0.0 seconds\n",
      "tolerance met\n",
      "0\n",
      "Time taken: 0.0 seconds\n",
      "tolerance met\n",
      "0\n",
      "Time taken: 0.0 seconds\n",
      "tolerance met\n",
      "0\n",
      "Time taken: 0.0 seconds\n",
      "tolerance met\n",
      "0\n",
      "Time taken: 0.0 seconds\n",
      "tolerance met\n",
      "0\n",
      "Time taken: 0.0 seconds\n",
      "tolerance met\n",
      "0\n",
      "Time taken: 0.0 seconds\n",
      "tolerance met\n",
      "0\n",
      "Time taken: 0.0 seconds\n",
      "tolerance met\n",
      "0\n"
     ]
    },
    {
     "data": {
      "text/plain": [
       "<matplotlib.text.Text at 0xd12cb00>"
      ]
     },
     "execution_count": 73,
     "metadata": {},
     "output_type": "execute_result"
    },
    {
     "data": {
      "image/png": "[encoded data removed]",
      "text/plain": [
       "<matplotlib.figure.Figure at 0xd0c7320>"
      ]
     },
     "metadata": {},
     "output_type": "display_data"
    }
   ],
   "source": [
    "testLamda = []\n",
    "trainLamda = []\n",
    "\n",
    "for i in range(100,1000,100):\n",
    "    a,b = multivariate_ols_ridge(x_train, yvalues=y_train, R=0.000000001, MaxIterations=10000,tol = 0.0001,alpha = 0.0,lamda = i,betas = None)\n",
    "    \n",
    "    yHat = a + np.dot(x_train, b)\n",
    "    yvalue = y_train\n",
    "    trainLamda.append(sqrt(mean_squared_error(yvalue,yHat)))\n",
    "    a,b = multivariate_ols_ridge(x_test, yvalues=y_test, R=0.000000001, MaxIterations=10000,tol = 0.0001,alpha = 0.0,lamda = i,betas = None)\n",
    "    yHat = a + np.dot(x_test, b)\n",
    "    yvalue = y_test\n",
    "    testLamda.append(sqrt(mean_squared_error(yvalue,yHat)))\n",
    "    \n",
    "plt.scatter(range(100,1000,100), trainLamda)\n",
    "plt.scatter(range(100,1000,100), testLamda)\n",
    "plt.xlabel('Lamda')\n",
    "plt.ylabel('RMSE')"
   ]
  },
  {
   "cell_type": "markdown",
   "metadata": {},
   "source": [
    "There is still no change in Lamda within each Train, and Test set repectivly. "
   ]
  },
  {
   "cell_type": "markdown",
   "metadata": {},
   "source": [
    "### (Showoff) Extra Credit 3: Lambda and coefficients\n",
    "\n",
    "If you're feeling extra-special, create a parameter plot that shows how the different coefficient estimates change as a function of lambda. To make this graph intelligible, only include the *K* original F_s features in this plot."
   ]
  },
  {
   "cell_type": "code",
   "execution_count": null,
   "metadata": {
    "collapsed": false
   },
   "outputs": [],
   "source": [
    "# Your code here"
   ]
  },
  {
   "cell_type": "markdown",
   "metadata": {},
   "source": [
    "*Discuss your results here*"
   ]
  }
 ],
 "metadata": {
  "kernelspec": {
   "display_name": "Python 2",
   "language": "python",
   "name": "python2"
  },
  "language_info": {
   "codemirror_mode": {
    "name": "ipython",
    "version": 2
   },
   "file_extension": ".py",
   "mimetype": "text/x-python",
   "name": "python",
   "nbconvert_exporter": "python",
   "pygments_lexer": "ipython2",
   "version": "2.7.11"
  }
 },
 "nbformat": 4,
 "nbformat_minor": 0
}
